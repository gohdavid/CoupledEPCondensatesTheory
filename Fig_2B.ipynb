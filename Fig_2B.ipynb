{
 "cells": [
  {
   "cell_type": "code",
   "execution_count": 30,
   "metadata": {},
   "outputs": [],
   "source": [
    "using Integrals\n",
    "using SpecialFunctions\n",
    "using Base.Threads\n",
    "using Glob\n",
    "using DataFrames\n",
    "using CSV\n",
    "using CairoMakie\n",
    "using LaTeXStrings\n",
    "using Polynomials\n",
    "using Statistics\n",
    "using PhysicalConstants.CODATA2018\n",
    "using FilePathsBase\n",
    "using ColorSchemes\n",
    "CairoMakie.activate!(inline=true)"
   ]
  },
  {
   "cell_type": "code",
   "execution_count": 31,
   "metadata": {},
   "outputs": [],
   "source": [
    "CairoMakie.activate!(inline=true)\n",
    "custom_theme = Theme(\n",
    "    fontsize = 8,\n",
    "    linewidth = 1.5,\n",
    "    fonts = (; regular = \"Helvetica\"),\n",
    "    Axis = (\n",
    "        spinewidth = 1,\n",
    "        xgridvisible = false,\n",
    "        ygridvisible = false,\n",
    "        topspinevisible = false,\n",
    "        rightspinevisible = false,\n",
    "        xtickwidth = 1,\n",
    "        xticksize = 2,\n",
    "        ytickwidth = 1,\n",
    "        yticksize = 2,\n",
    "    ),\n",
    "    Colorbar = (\n",
    "        spinewidth = 1,\n",
    "        tickwidth = 1,\n",
    "        ticksize = 2,\n",
    "    ),\n",
    "    Legend = (\n",
    "        framevisible = false,\n",
    "    )\n",
    ")\n",
    "set_theme!(custom_theme)"
   ]
  },
  {
   "cell_type": "code",
   "execution_count": 32,
   "metadata": {},
   "outputs": [],
   "source": [
    "using Unitful\n",
    "Unitful.preferunits(u\"nm\")"
   ]
  },
  {
   "cell_type": "code",
   "execution_count": 33,
   "metadata": {},
   "outputs": [
    {
     "name": "stderr",
     "output_type": "stream",
     "text": [
      "┌ Warning: Symbol b was found in multiple registered unit modules.\n",
      "│ We will use the one from Main.\n",
      "└ @ Unitful /Users/wudw/.julia/packages/Unitful/GYzMo/src/user.jl:715\n",
      "┌ Warning: Symbol b was found in multiple registered unit modules.\n",
      "│ We will use the one from Main.\n",
      "└ @ Unitful /Users/wudw/.julia/packages/Unitful/GYzMo/src/user.jl:715\n",
      "┌ Warning: Symbol b was found in multiple registered unit modules.\n",
      "│ We will use the one from Main.\n",
      "└ @ Unitful /Users/wudw/.julia/packages/Unitful/GYzMo/src/user.jl:715\n",
      "┌ Warning: Symbol b was found in multiple registered unit modules.\n",
      "│ We will use the one from Main.\n",
      "└ @ Unitful /Users/wudw/.julia/packages/Unitful/GYzMo/src/user.jl:715\n",
      "┌ Warning: Symbol b was found in multiple registered unit modules.\n",
      "│ We will use the one from Main.\n",
      "└ @ Unitful /Users/wudw/.julia/packages/Unitful/GYzMo/src/user.jl:715\n",
      "┌ Warning: Symbol b was found in multiple registered unit modules.\n",
      "│ We will use the one from Main.\n",
      "└ @ Unitful /Users/wudw/.julia/packages/Unitful/GYzMo/src/user.jl:715\n",
      "┌ Warning: Symbol b was found in multiple registered unit modules.\n",
      "│ We will use the one from Main.\n",
      "└ @ Unitful /Users/wudw/.julia/packages/Unitful/GYzMo/src/user.jl:715\n",
      "┌ Warning: Symbol b was found in multiple registered unit modules.\n",
      "│ We will use the one from Main.\n",
      "└ @ Unitful /Users/wudw/.julia/packages/Unitful/GYzMo/src/user.jl:715\n",
      "┌ Warning: Symbol b was found in multiple registered unit modules.\n",
      "│ We will use the one from Main.\n",
      "└ @ Unitful /Users/wudw/.julia/packages/Unitful/GYzMo/src/user.jl:715\n",
      "┌ Warning: Symbol b was found in multiple registered unit modules.\n",
      "│ We will use the one from Main.\n",
      "└ @ Unitful /Users/wudw/.julia/packages/Unitful/GYzMo/src/user.jl:715\n",
      "┌ Warning: Symbol b was found in multiple registered unit modules.\n",
      "│ We will use the one from Main.\n",
      "└ @ Unitful /Users/wudw/.julia/packages/Unitful/GYzMo/src/user.jl:715\n"
     ]
    },
    {
     "data": {
      "text/plain": [
       "kb"
      ]
     },
     "metadata": {},
     "output_type": "display_data"
    }
   ],
   "source": [
    "Unitful.register(@__MODULE__);\n",
    "@unit b \"b\" b (0.34)*(45/(45+146))*u\"nm\" false\n",
    "@unit kb \"kb\" kb 1000*u\"b\" false"
   ]
  },
  {
   "cell_type": "code",
   "execution_count": 34,
   "metadata": {},
   "outputs": [
    {
     "name": "stderr",
     "output_type": "stream",
     "text": [
      "┌ Warning: Symbol kb was found in multiple registered unit modules.\n",
      "│ We will use the one from Main.\n",
      "└ @ Unitful /Users/wudw/.julia/packages/Unitful/GYzMo/src/user.jl:715\n"
     ]
    },
    {
     "data": {
      "text/plain": [
       "1 s⁻¹"
      ]
     },
     "metadata": {},
     "output_type": "display_data"
    }
   ],
   "source": [
    "# Diffusivity of protein\n",
    "Dc = 1.0u\"μm^2/s\"\n",
    "# Partition ratio c+/c-\n",
    "Pc = 5\n",
    "# Diffusivity of RNA\n",
    "Dm = 0.03u\"μm^2/s\" \n",
    "# Radius of droplet\n",
    "R = 250 * u\"nm\"\n",
    "# Nascent RNA lifetime\n",
    "lifetime_RNA = uconvert(u\"s\",10u\"minute\")\n",
    "kd = 1/(lifetime_RNA)\n",
    "# RNA diffusion length\n",
    "l = sqrt(Dm/kd)\n",
    "# Contour length of DNA\n",
    "Lc = uconvert(u\"nm\",200u\"kb\")\n",
    "# Kuhn length of DNA\n",
    "LK = 35.36u\"nm\"\n",
    "# Root mean squared end-to-end vector\n",
    "rmsd = sqrt(Lc*LK)\n",
    "# Persistence length of DNA\n",
    "Lp = LK/2\n",
    "# Diffusivity of DNA\n",
    "Dapp = 0.01u\"μm^2/s^(1/2)\"\n",
    "De = uconvert(u\"μm^2/s\",(Dapp/((12/pi)^(1/2)*LK))^2)\n",
    "# Alpha parameter for DNA\n",
    "getα(Lc) = 3/(4*Lp*Lc)\n",
    "getLc(α) = 3/(4*Lp*α)\n",
    "α = upreferred(getα(Lc))\n",
    "# Temperature\n",
    "T = (37 + 273.15)u\"K\"\n",
    "# kBT\n",
    "kBT = BoltzmannConstant*T\n",
    "# Beta\n",
    "function getβperkBT(X); return - 3/2 * 1/(Dm*De) * 1/(Pc -1) * l/(4/3*pi*R^3) * X*u\"μm^5*s^(-2)\"; end\n",
    "# Production rate\n",
    "kp = 1u\"s^(-1)\""
   ]
  },
  {
   "cell_type": "code",
   "execution_count": 35,
   "metadata": {},
   "outputs": [
    {
     "data": {
      "text/plain": [
       "velocity3d (generic function with 1 method)"
      ]
     },
     "metadata": {},
     "output_type": "display_data"
    }
   ],
   "source": [
    "function velocity3d(z0,R,l)\n",
    "    function f(u,p)\n",
    "        x = u[1]\n",
    "        z0 = p[1]; R = p[2]; l = p[3]\n",
    "        return x*R^2*exp(-sqrt(R^2+z0^2-2*R*x*z0)/l)/sqrt(R^2+z0^2-2*R*x*z0)\n",
    "    end\n",
    "    domain = ([-1], [1])\n",
    "    p = (z0, R, l)\n",
    "    prob = IntegralProblem(f, domain, p)\n",
    "    sol = solve(prob, QuadGKJL(), reltol = 1e-12, abstol = 1e-12)\n",
    "    velocity = sol.u\n",
    "    return velocity\n",
    "end"
   ]
  },
  {
   "cell_type": "code",
   "execution_count": 36,
   "metadata": {},
   "outputs": [
    {
     "data": {
      "image/png": "[encoded data removed]",
      "text/html": [
       "<img width=181 height=90 style='object-fit: contain; height: auto;' src=\"data:image/png;base64, iVBORw0KGgoAAAANSUhEUgAAAWoAAAC0CAYAAAC9m2YIAAAABmJLR0QA/wD/AP+gvaeTAAAgAElEQVR4nO2dd7wU1fn/3/demvQqCggioKKiIiKWKLFXNAYTC7ZEExUsidEYY/laEo0RjRGjSWyxfe3lqzHYsSuKoFiCooIgFpReLXB/f3xmfnt27sze3dnZnd17n/frNa/dnTlz5tndmeec85znPA8YhmEYhmEYhmEYhmEYhmEYhmEYhmEYhmEYTZ9fAIc5n3sDbwPLgVeA3wAdU5DLMAzD8NgMWAW08z53AO4CjgS6AEcDLwJ7pSKdYRiGwVBgFlCTo0xr4EFgm7JIZBiGYWRxPnBtHuUGAXeUWJZKot7bDMMwEqe2wPJPAQcgM4fP34HXgNOBrt6+Ts57wzAMo8y0BVp47/sDi4HPUI/yO2Cqt+9PqUiXDtajNgyjYhkC3IsU9xHAc8Ay1PPulqJc5cYUtWEYFUsN8DxwNhlPkOaIKWrDMEpGoTbqIPXIZt0XGFO8OEaJ6QNsgfzfW6csi2EYRlmplh71v8nI+oeUZTEMwygr1aCo1wFWkpH1nnTFMQwjX4o1fRjVw+5IWftsmpYghmEURovGi6RKL2AU0B6YjJanF3LuccDFgf0bAUeFlJ8CPBpDxmph/8DnQaihXpuCLIZhNBGGoWBPi4EP0XD90gLOvwb5dQc5FvgWmBvYCqk7SKWbPmqAOWTk9Lf+aQplGEZp6QJ0L2H9rdEimqeAVt6+n5HxMomiK/AX4CUyC3CC/AF4IjFJRaUr6q1oqKTrgf3SFMowjPyIa6PeEvgCKdITgZ6JSST2BNYHfo96vwA3A++iCH1RtAA6Ax8A0yPKDARmJCNm1RDVuG1WVikMwygrXYAzgEmo17oGeBY4GdmGi+VyYAUNo/RdA8zPs46LCe9RvwFcBVyN3NUmAJvHE/P/U+k96pfJyPiK8/6mNIUyDKN8dAJ+CtyClOhaZHo4nfhK+xbgk5D956NGoS6POqIU9RJv/33AlcA7wPfAwbEkFZWsqHug71fvvR5CRt5XU5TLMIyUaAWcieJ9+IrhUWDnAuu5lXBFfR7FKeqWwLkBeeqAJ4EF5G8K+kdgq2RFfTQZ+V5AZir/81JyxxY3DKOJ0B25u90FLEIK4E2kVA8G7kYK+4QC6hyPTB9BJlC86SOMI5Dc+foWh03MVaqivpuMfGd5++Y7+zZMRyzDMEpNN+AcZPtcg8wdk4HfAgNCyk+gMB/lUUiJbBvYPx1F68uHMEW9LZK7ZWD/Cd71eudZ9y8DW6Uq6pbIvdGXz7fFP+PsG5WOaIZhlJqRSEG/AJwGbNBI+cOAcQXU3wb4HHiczKKcI5FiOdApNxjYOKKOMEW9pVfHaWSG/OshL5FJBcgXpFIV9a5kZJvl7L/K2f/7FOQyDKMMrId8c6NoT/EZXoYj88cC5E5XD1wWKDMTeD3i/CjTxyVeXV+hEK1LUU99wyJkrVRFfQUZ2a5x9h/v7L8rBbkMwygDI5Gii+I84JEErtMb+WmfAewScvwU4BcR5+7qyRHGFsCpyFTzI9SDL4ZKVdR+A1cP7OvsH+7s/28KchmGUQCFzvj/GvgxcskbTLh7Vy1SBPfSfGJU+0q6kjwoBiGTDmhk0h1Y7X1eB3nm1CETVifCJ28Nw6gACg3KtACYjVy8Nvbeh/EkcGNsqYwkcIMwPUVGSQOsQr3tzZGyHoL5VBtGk2Mo8FjaQlQQlWj6eIqMXGHmodud42PLKJdhGEYqVJqi7gh8g2RaS/gK0dPJyH1D+UQzDKOU7IyGzIc773Ntj6cjZipUmqIeTUamNyLKjHTKTCuTXIZhxKAQG/XHwO/QQ73Me5+LT+MKZRSNGy0vaqHRNNTbrkW26nVQA2sYRhPETe9UrJtbtVJJPepaFILWl2m7HGXfc8rtUHrRDMOIQzE5Eweh1XxvOft+g3rehxQjlFEUw8nEB/8SpRiLwl0slEuhG4aRInEVdQ3wMNAXZUzxeQh4H612C1ugYpQe1y3vP+TOiTjZeT+iNOIYhpEWG6Ph8p4Rx+8Dri2fOKlTSaaPqWTkGd1I2WFO2Y9LLJdhGGXGV9RRiQEuQ73r5kKlKOreqAddj9zzOjRSviVakejLv35JpTMMIxZxTR8zUezpX4Uc64GWmZvLV/nZn8wy9ueQd04uviPbhr1jKYQyDKM4Cl1C7lOPYjjfA+yF4hsvQ+FOD0DLlSckIaBREEH7dD68RGY+YSfg/kQlMgwjdXZGCWI/R8F9PgGuJ/8A/E2FSjB9tAGWO7IMzPO8/ZxzXiuNaIZhVAqVFDmu3FSCot7XkaOQ0KWdUCNbj0whjdm1DcMoM8X4UYPs0RcBE4FXgDvIjntslI98ViOGsYSML3wLZP4wDKOJsA3KjrIUKYY7UVLbehSZrTlRCT3q2Y4cuxZ47pXOucEsOoZhVDEfAQ8AbQP7d0fK+8iyS5QeaSvqIY4Mi2iYvLcx/GTC9USnNjMMo8rohx7q/hHHbwRuKp84qZO2ov6dI0OcHIidkH26HtmruyQnmmEYxRLXRu0HX4qKtraK5AI0bYJW0LUr8Ly25F7G3hvFt+gRU65KIq592mcJGX/qWjQqMgyjCfAlWiYeVPabA/OBk4qsvzvZy6EXo0S0+XIK4VnIa4FbnHq/B/5YlKTp9qi7o+/gf5fuMeu5iMz3+EcyohmGkTZ7I8XwIXAdcDkK1LQaLYAp1E7qUgO8iCbIRgB9kDllJbBljvPWAQ5CgaJWEa6oL0HLqw8D1gVORsuujy9C3jQV9Rjn+i8VUc9OTj2fJCCXYRgVwhDgNpQo9QvgZWAc0LrIekcgheEO6euAz4C/5TivHzDL2xbTUFG3QsP88YH99wDvFiFvmor6Tuf6vy+inhZoItKva4viRTMMoylzAfAtDRX+zUgJ58PFNFTUPyTcfe0Yb3+/QoR0SEtRtwAWOtfPNdrIh7ucus4qsi7DMBKikFgfGwBHFFB+DurtxaEP8DUyUbh8SnHL0/t4r/NC6vWPV9OwfycyHhpzgOlF1vcocKj3fhTmU20YFUEhirovjedJdHmR+Io6Kn/fKmT7bkm4/Tmfev16gvVCQ5/wKCqlt1mst0eQicg9rw7YHtnw5ydQr2EYRVCIon6J8vnXLgC6huzvhmzMcZS0Xy9e3XMD9QJ8lWc9f4p5/aRxo+Uloai/Rg3sSKSsDwRuSKBewzCKoNhYHyC76Bg0ZG6H3POKZRrQmYYLaoaiZepx8c8dGlLvSuCDPOu5LLClwQBgsPd+JfK0SYIHnfeNZYgxDKPC6Y16X/XIvW0SmRWLFxZZdzc0mXils29r5A54cp51hE0mArwBvIo8QECr8j5C6cPiksZk4qnOdR9OsN6+ZLLEfEv4yMYwjCrhDW/bFjgaKeoaNFxeDRxbZP0/J6OE/o6G5U+Rba6Z6l03jChFvRVKcjAF+CtyLZxHcZOUaSjqx53rnpBw3a84dR+XcN2GYRRIXNNHXxQ973ik8NZ4+33FehvZE11xuAml9FqJvDGuBg5GvWqf91DW8zBmoXRUQd5CCQ+modyPT6Cl5kFPkEqmA7Ijg37zJOzTLnc77w9PuG7DMMrEZkhB+HEyxpDds/0DyvzSXCh3j/pg55qlyE3Zi+xl6c0tY49hVBRxe9QzkPngFyHHWiEf3LdCjhnJkLRbXpDPyExO1tG8QtYaRpPieNTjegBldnkfOBd4G7m5NadeWDl71LUoR6V/ze1LdJ2jnGsUktrLMIwK48coIaofy3g1MnkMznVSE6Scinq4c735JONiGUZb5LPuX+sHJbqOYRglIhgZrw7oSemURqVTTkV9gXO9f5X4Wn93rnVria9lGEbCjARmIqWxcbqiVATlVNRTnOv9pMTX2sa51irix7o2DCMFNkAuXEvJ5Nn7FbBemkKlSLkUdS+yF6N0KsM1J5P5foXEejEMo0JojeJN3IDspWuAJ9Fil47piVV2yqWo/QncerT4pxy4k4pzKC4hhGEYKVOLFo5ciyYXk4o9UQ2US1E/5Fzr12W4Hsjd0vUyGVOm6xqGkTC9UG/vQeRfvQK4NFWJyks5FHUbYLlzrXLODZzjXPctFCrAMIwKpxaly7qITALaVcin+lDyj+vcVCiHot7HuU7UsvlS0RU1wP71R5X5+oZhxGAkemC/QbE9xqD4E82VcijqCc51rijxtcIY71z/daxXbRgVzyCUZ7AcXgfVQDkU9SznOruV+FphrIcCZPkyHJSCDIZhGLEptaLe3LnGEtLzvHB71e+ghU6GYRhVQakV9VnONe4p4XUaozvZy8otVrVhGFVDqRX18841ji7hdfLhXEeWz2le/vKGYVQxpVTUXckEvVpDJgZ4WrRFC1/SnNg0DCMP1gUOyXF8MM0r2lopFfURTv0vl+gahXIYGZm+RQmODcOoEGrRBNJuKIdhXcjWErgemJiSjGlQSkV9h1P/OSW6RqHUAE+TkWsyNrFoGBWD68vb2PaXhK65CTAMaFfAOZ2B7YD+EcdGhmyDipCxVIq6BbDAqX/rElwjLpugRU6+bGelK45hGD47oJn+P6OVasdFbD9EMSKKoTuZVY/1wGLgR3mcN45sBfIYWn7tcyjhDct1RchaKkW9i1P3HCpvkcnZZORbjTK8G4ZRIfQHzith/TXAi8BstFS9D3AjWnCRyx66D5pwuwQt0NgTWAjc7pQ5B62sGxDYipmkK5WivoxkGpJS0YLsMKjv0vzCBxhGxdMZOBXZpC8FugFjKX5Bxgj04LtJXOtQ0tW/5ThvIgqs7zIWKW8/VvbNKCxrkpRKUb/r1H1AI2XTYmOy44Dckq44hmG47IKiuX2Nkp9OAtZHyQSeAtoXUfcFyJugdWD/zWgpdRitUOyRCwP7+yEFcoz3+UU0ZP8xcAYwOuQ6hVIKRd3fqXclld1TPYZsM9K4dMUxDAPk/TEf9Z7aoKBMk7xjvYEvKM5D4QbUew5yMVLgYfRBSuKXgf0tyPaY+ALZsOcjG/hqpPw3K0LeUijqU5x6/51w3aXgJrJd9tKIR2IYTZIWMc8bjGy65yNF5zIPJULdoQi51kHKNMgqZFZpiRaBBM/xy7h875Vt6533Durx+/bfvijJwT3AFnnKV+pchaDMOT7VoKjHAkOAbdHvfB+wMzLfGIZRBHEV9VLvNcoLoQUNFXghLEAr8oJ0Q7EmgkraP4eQ8zogxfGVd94egeNzgMtRxu0NgLl5yFfqeBvtkeeMz6Mlvl4SrEZeOZPRqKoL8rj5AfBJinIZRtVTG/O8ucgjYzzZrm8g2+oY4JX4YjENTVQG/aCHAm9GnLMQKd2hIefgndcb2Cnk3GXea7626nsDW9Ls6cgynfwaj0pgHpr09BvyPmj00js1iQyjmbM9MjPMQ7beL9FDuRp5XhQzQdcN2TmvdPZtjcwYJ+c47wrkb93X2XevJ1sdsDsyd+zqHK8FngA+IH7DlbSN+ganzj8mWG+52I1sX/YP0GjFMIwU6I0WvzyDPD+eQJ4UwV52HH6OHvKHkVnia9QQuOaaqWQmMUGR3N5GPesJ3rHvUA8VpKyfRj3o+1AqsVdRD3BP4pOkoq5BE6l+nTsmVG+5OQB54fjfYzZazWgYRhPjYOAuNJl2Pg3Tfd2OlLhLTzRR+B80qTkycHwd1Ct/wCtzFbBpkXImqai3deqbT3XH0DgQjbD87/M14aYnwzByUMiS5A4U5sK2FPWymwO+kk5iiff/ID9yUENzTHTRqmBP1Cj6fvXfACcC/0pLIMNoyowk/4BM9WSbJJo6SfaoX3fq+2lCdabNcOS/7t4ff6P4hUaG0SwopAfYDhhYQPnlwEeFiVO1JNWjXh9NztYg23oP5I7YFNgQ+D+yY7VMRR5CM9IQyDCaEx2QC9xw0s8+khZJ9aiPc+p6JoH6Ko32aM7B7VmvAE4jvseNYRg56IQi2vlpouqBtcirYpsU5UqDpBT1A05dpydQX6USDEVbD7yEVjYahpEgjyKf5TPQ6rPtgcNRT3AxxcXOqDaSUNStyY5C19Rd2bZAi5BcZf0tSjjRJUW5DKPJ0BM9WKNCjtWhrNkXl1WidElCUe/t1PNB0RJVB62Qh4vrb+278Z1OMv74htFs2QY9UOtGHL8QeLB84qROEor6aqeepNKYVQubkp2D0d/mIp93U9iGEYM2yDvh2JBjtSjOx9nlFChlklDUHzn17F60RNXJaOBDGipsP2xut/REM4zqoxPq6awE/gkcAeyLYkG/iCLVjUEPnr/tkoqk5aFYRb2ZU8cSis83Wc20QpON82iosFeiOCjbpiadYVQRhS5+aeoLYIpV1Gc6dZQiGl81sg5KnvAJ4ffTVJQGrrm6hBpGo7RAw9BCto6pSFoeilXUzzl1VPuS8aRpiUZnUwhX2N+imC3HYt4ihhFJR5SMdh9gUMqypEUxiroLGV/0NURP0BrKGnQLMoFEKe0nUU97QEoyGkZFUQf8CS0Vdx+WyUhxNyeKUdSHO+e/mphETZtOaD7kBbTIKsrc9gFwDco8Y71to1lyNerZnIeWj2+CHohJKC1Wc+rRFKOob3fOPzcxiZoP/dCiq1fIrbTXoMxBf0XBriyRgdHkaYOGmQeHHGsBvIZ8qZsLcRV1HWrU/PODacSMwugFnICSTQRHemHbPOTv/3u04MgmJo0mxVB0o7eLOH4pipTWXIirqHd2zp1LMvGsDdEapQS7BJmU3Jg0ubbPUFLePwNHI1fA9hhGisTNQv4hGmYOB54NOT4C9aqN3OzvvH+U4hfNGBm+QXFn/CiEHVBas528bTgNMwaBQs2uj3rYLnOQzXum9/oh8LG3rU5YdsNIjLtRqqijUeyPdmhp+e0oMlpzGsbH7VG/45wbFjfFKB11KDDUz9CE48vkZy6JMqG8CNyBRpMnoZyRWwHdy/WFjKZLMUPttiid0iGBeuYBY5GdsLngK+lCfs8NgVne+1XogV6ZoExG4dSiSfCtkBLfHBiM3E6LWS26GvgcmVU+897Pd17no2XyX2P3gBFCXEVdh+x2K4D+wDCgMxoGPoeGncVSB4wHDvOuNRktW28sG8iOwBXoYfsKuA65EbocB5wF9EFD2XOBR4qQNY6iPhllSgct2Ng/R1kjXVqg+3wTbxuIFPoAoC/xTYhhrEATzF+j+3eBty0EFnmb/36xs61IUAajwoirqDcD3kXDu0eTEyeLa9Gw9ALUS/818oUdgW7gMDZBblrTgOtRIPrfIaU83itzKHAnilHyDBoRHAjsgYavcYijqCeiRUKgEch1Ma9tpEsL1OBviFwF+yHl3Ru5APZBft+l5nsUJ2YJUtxLUXzzZciks8h7XeFti1DvfaVXdgXq+S9BIzyzu1cQxZg+pqIJwxMTksVlAJqsORklQQWZBmaj3vL/RJx3Gwr+tCm62UC96VPJmBbmoN75T7zjtUhBf4dimMShUEXdDvWY/PCd/Ty5jKZJW6S010WKuyewnrf18F7XRfdoJYV0XYLccJeRUd7L0bOyBDkULPLKLkLPwWLv82Lvs1/eP38NahjwXtegRmaZt2+Fd03DIa6i7oqG6leg1WGTyChGn8/RkD4OpwOXo5t4obP/fqTEtw45pw4pv1uAXzn7hwDTkc/3HOAN7/1DTplTgKvQw7IghryFKuqDnOu/TXbCV6N50x4p7HXRc9bde+2KRpTdkJmxi/PaCTUGTQ1f2a8lk+TZVfTufpCy/957v5psneQ3LJDdoPgsCnz2GxGfsFGGW6d/zszwr1IccW1rQ4Bbvfc/9rYgzxJfUQ9CCnphYP9MMuaCIN3RjRv8ofzPg5BvLRFlaoGNiKeoC+UA5/2/y3A9o3pY7m2zCzyvJVLYHZHy7ojcDzsi5d/J+9zO+dwOKfgO3r42Xvm2ZJ6VNOnsvK+GWORP0NCtMxHiKurnaXyItraR47noRHZL6bME3UStaDg86uSUcVntle3iHAuW8T/nGw9iWJ7lwqgB9nM+m6I2kuA7NKL8OsE6OyOF3c7bWiGl3sI7Vuu8dnJea8go2Y5otOsr/5ZkFhB19sq2IrN4zq/fcIj7g9ST8eyoIfmFGksID4vaCQ1BwmxYvrINntcG3QiLc5TxlXxwOBTFlDzLhdEOuS7uh27eyUXUZRilJN/noRS4yr4FmcVJrqKvI/tZ9hsLUDxztzPpdsKC5/kNjIvfiPj4DVWuMiUxe0A8RV2DTB0nIHNCX/SHzkZB728GvixSrg/RUKcL2bajgd6xML5GinhgYL//+UMUhN7f916gzFoyfs2N8UbgcyE97OVoQQQoNsWaHGUNo7lST/azH+XpZYTQmkyQ+0+Ra94/gLuQB8haZNDfocjrDPSu4XqUdPXqvijHebejBsNtSf+IeuHtUCMz15PXpwZ5fTxfhLzFJg4wDMNIjL+jWdVfEt4bH4y8QMJ6tnGutQJ5gByGTASzkWuTz3Vk/KNBbnmLUFCd0cgH+3vkR+3jx3++Gnl/3IHMOMXkdDRFbRhGRdAC+SFH+TD7dEFLYi9L4Hp/RUtrl6PFKYMDZWYCrwf2/QApdd9n+pyQun/hnbsKue4dWKSspqgNwygZhfhRbwW8iQIvTWuk7H3ITNJcAg2ZkjYMIy6N6uHaxgo4+DOwn+VR9nMshq9hGEYiFKKojWhqCtye8M7bO8a51bod7X3n2ypAlnJuPmnLUc7tNu87H10BspRr8xe6PBHj3EaJ456XT5bsqMwvhmEYRoHEUdTT8yz3bIy6DcMwjACFKOqPUcjQfLFocIZhGIZhGIZhGIZhGIZhGIZhGIZhGIZhGKUiL2dro2BqgL3IZEJ/kPxi+24N/BAFgX+c6JCulUqh8u8G7Byy/z6UPLma2BGlibutsYLEvz8qjV7AccDFeZT9OcobGWQ81ZNBfSgK3rYWeJmG4Y7DaAv8COXKnAk8QiZdmJEiNSjLeT0wAwWH+gIlsM3FSd45c1FQq+/JzgRT6cSR/18odO3cwFZskKxy0xolk3gyj7Jx749K5BrUKOfDbBQzPvhf9yiJZMlzA/rPPkJx7evJJN6OogvwX5To5D0Ue/5ZGiYgMFLgFHTz+ktKOwFvkTsrzFCk2PxY2zUoAcMyYP3SiJkoceV/Efh9aUUrKcOAa1FPqZ78FHWc+6OS6Ar8BXgJfed8FHVrpKR2LKFcpeQ4dH/v6+w7BX3//XOcdz8wj8xIYiuUAHd85BlG2ZhCw6S+h6A/dbOIc8ajoa/b0vZEN/fYpAUsAXHl/4LwxMjVwi6oQfKzGuWjqOPcH5XEumS+81vkp6g3Rd+vawnlKiUPE55YZAnw54hzuqDf5reB/deg+97iLKVIO3RDnhXY393bH6W0Xgcmhux/B7gnMelKRxz5O6Df5DTgJvQwXEh1ZJsO4wUaV9Rx749K5WLyU9SjgAUoDvzd6J44CeU/rAaOomHPuRPqZYfFu8crXw+MCOyP1SibVk8WP2DV/MD+Bah3GRXQat2Qc/x68gmClTZx5PczAJ2HJmc+RQ/vDKB/0gJWCHHvj2pnIOpNn4F6k98BV6FeajXYa29DaQd9eqIG5xuy0/q5RP3X8wPH88IUdbI05kUTdTxqf30edVYCceRfCpyP7NvHo97kFqiXcmXSAlYIce+PaudN4Exkoz0NGINs9CPIJHquBurQqOBdYAiyWX8UUTbXM5HreCimqJPFby2DM9ld0Z8clZ19fsg5oFa32Izu5SCO/B+hofPcQD2PUHxy5Eol7v1R7UxC8xirnX3PIvfNavmvu6MRwJXI22NjcifEjvqv/Z50Qf+1KepkWQ5MpWGi3JHe63MR5z2HbljXZtcD5YiMOqeSiCP/aORbG6QD8hZpisS9P6qd04HdA/tqUBaoaviv+yG/6aXAJihvbGO+3y+j0WHYfz0fmfiMFDkN2eD8G7MDyjE51SmzARoG+g3lNuhPPd8pcz16sHuVUtiEyEf+lug7+59PRTa+7Z1zdvD2NZZAuRKJmkwcjHpfPvncH9VC1GRiF/Rfd/Q+PwB8gGy7Pr9BZoCRVD63I/NNrrDQwfsbtJBprrNvc+QddUUJZDQKpAZNNKwF3kY9hi+BDZ0y16Ob1M2EM87bNwvlpfweOKD04iZGY/L39o5f7n1eB3jK2zcTeBU99Hd7x6qNKEU9E3nF+ORzf1QLUYp6DNk+xgNQfPo1yD3RX/xxZhlkTILFaAXp2yHbhV6Z4P0NMmnNQCYf35XxBeRXXhBxMrwYuakHDker7oag1VgPAQudMg8jL4dvnX1/A15BPYzvgcfQQ14tNCb/UuACNCQEWAXsiXqW/oKZ35Lb7lfJ3ET40uCrybbN5nN/VAvPkH0P+0xH//UH3uePkMngQGAj5H/8NPB+6UUsmtZogU8U/kgoeH+D/tNhNFxCnu9qTsMwDMMwDMMwDMMwDMMwDMMwDMMwDMMwDMMwDMMwDMMwDMMwDMMwjOKYiFa1udsnKBHs0EDZ09DKv3wZjpLSVgPtUECnSond/CDhSRNysR+K+2AUxh6UPmXZRcAlJb6G0YSZiPKvHepth6PgRR8gpXywU3YP4LoC6r4NxSCoBgagRioYjS0txgG/KvCcueSXudvI0ALFgT6qxNfpheKvDCjxdYwmykSU0ThIR2Ay8DlKTR8HU9TlxRR14RyJssOUIyPMXSgWi2EUTJSiBvWg68lkywiaPjZGgaAWoShmd5IJOfkK2eaU3t7+A1BEu6Uoetj9KLCMz1koyMwPgDeAlShAza4B2fZFwXsWoUhiwd7nlihQzZcokPx4ooOF7R2Q9Xrn2ImevEtQXOfGkuZOQAHtD/G+xyKUdDbYkxoJPOEdn4Zy5LnZOVzTxwhPru1Q6qblwGwyuRBbB+TPFXTr197x5d73OjZwvA+KwvcZ8DFwA8rj5zOOhsF/enrXPcj7fCmK7LcDaqj9yG/tUZCtGWR+Fzc9Wh0KaTsN/d7P0jA3YNJMIZPlHvL7fv49uguSdQW6F9dFWYXeRPf3TWTHUt8ZBZty73fDyItciroW3VjXejfGPNcAAAd4SURBVJ9dRV2LHuRHkG10NLpp/dCbG3nHpiK7aQvv9VsUN3d777yZwEvONc9CD+ks4BSk8CajB9uPQzwahbO8ETgM9VLqyQxfhyJF9DjwUxRgfhF6cMJojxR/PXrQ/Di/56LIdReh0JoTUBjRIyPqwSszHzUOpwC/RA/ufDIKbzcUH/sOlKD1TE9et4EIU9RzgD8hhXErmbjLNei3/QL4BzAoQrZj0fB7LBo5nO/V4YeNXRcp6FfR7/ozpFTfIRNCM19FPQdFcrwV/c91qOGdjRq/07zfaAaZBvR/Pfl+i/63h5AS3DTi+xTLhp7cbhD+fBX1EjSXcypwNOp0zEL385Eoj+N3wNlOPbXoPjwlwe9gNBNyKWqQMn7Ce+8q6k1peJPvCNwLdPY+B00fRwIvkp0B6FSkdNt4n88i+6EATUq6SmkGUmQuL6BeDegBnxK4zkHowelNOEHTR3ekJM4PlLsRKaGoTNcTvHrcxAXroZCkfpzkySgcp9uDPgo1An4W6TBF7YbFbIkeejcZQmOmj7vI/EY+V6HGBOAylBC3i3O8P2qsTvQ+56uo68kefRzh7dva2bc7mXtoaxr+7zWoob+W3IxEjeFc1NCehP7/t7zzg5m+fY5H9157Z1++iroe+IlTxm843Szgk2k4Ifwf4N+NfJ+yYam4mg5+rzrIl6gXeCMatm+LemI/Qb2LMG5HJo1u3utRaPKyFvW4fNaSaRxAjQVI4fVFMYjvDtS9P1IGoHjUTwDrI8XcG/UK68g/l95OyDZ/R8h32ABlWInC75X6fIF6k8NQr3o71Husd8rcixTEHjnqdR/671CPdb0c5YN8hJTaHeh/6o5MRv/0ju+FFMki55xZaMSzVwHXAd0bDzif90Rxot909j2NzABTvPpXI8Xq/2e9UBzmYNopl1bALWhkMs37LsORmWErlLptbMS5m6Ce8fL8v1YW7v8xDz0T7zn73kW/scunRI94yo4p6qZBHXpg5oYcW4SU2XRkIngd3YSn56ivN7LffoFs22MJV+rLyLaFu4Hz+3qvwSSeS716eyAFe7Ynj799iHpoG+SQz8W3I34W2D8vcDyMT0P2LUaZOaLqXY16s7nqnR/4HJZQIBcXof9nBHAP+g0fAwZ6x/uEyAX6zoXaVYP/a1/CE6/OQ/MQ/dCoyjeZ+Ns4cv9n/VGDMBclTJiBMnr798/56P4Mowe6b+IQpuCDrqtrQs5bSHbqsFQxRd002BvZD8NSQYGU9Ghk6tgN9SKvINpz4nr00A1HSmsHGvZYIbunGcTPWNIlsH9DlGNxKeqRn4EUc3DLlVXDxVfIwdyS/ucwZezTNWRfT6QEo+ptjUYauerN9bvkwzfAX5Fi7odspcOBm73j80LkwtvnylUTON6ZxllIw/+sFjX23VHDv5zw/6wT0byPGp8B6B64n2wFeTPqaYdRQ3aWHHe/S9j3i/tftC3i3MQxRV39dER52/zeb5Cx6MFuhRTAJNSTgehFI0OR54SbcHX7iLJRfIh6a/s5+2rRkP1CT5bpqOFw2QwN47fN8zovoZ7e4YH9Y5DSypXteSOyh7f90Hef6Mk+BU3WuRyC7M5P5ylfHNwRzxxk+/1fMv/Xk2hS1VWM/ZAy9RvrlWik5Q7pR+Vx7dfRhGdfZ99P0ZxFP+94e9RwuPwTmZsaYx/vdVIeZX3m07DxgHjfL1860nBklBqWM7G66Ih6xqDexEA0k90HPbhhQ+zHUO/sTmSnrkM258XIrQqUuHM/ZC98FSnoUWhhzVzv1V9QM4Rsu24U36Ah/BWoEXnGq2MwcLJX5hw0YXMt6mH19M75L9FZuRegns4o1Bh8gibX/Mm619AI4zjkPRFmt3f5P08OUAPyDprkBPgdUtq3oN9vEzQJeBOya8blK2TP3QpNpAV53JNpFbKlbokajBu94+PRhO9/gCtRMuCz0eIn32PmNTRiuRktftoM+Hkesl2LJo4fRiv0vke/7/PIfj8V/f/3IHPFp+h/PYb87ON7okbkpcYKOsxEo5g2NOxZF/r98qUXmZyPhpE3YUvIF6CHdVigbNCPekc02bOcTGLR7Zzj26MFM8vRxF5fpOCXo974lchO+L5XDjSj7k5mgXp49Uix+xyPHu5lSHn8KHDOPp5sK7zv8y+yZ/fDuMP7flc5+07y6l+ClMrokPNcJiClfAZS+POQR0CPQLkfol7qIqRUzyN7JBrm9bFVoI5pZK8UPRmZfqIaozZIGX+KGrxZqIFwPVg2QMryc+/4jTQc+h+H3OwWezIOpKHXR9i8Ri+v7i88GW4O1N3B+z6zyYyM8u3NPk1hq2ZBPfl6ssMcjEOmkxfQfxP2/cLu0UvR7+VyPQ0zxS+k8BWnhmEkzATg7bSFMPLmVdR4+YS55yXFMDSS2LBE9ReM2agNw6gG/owW9qxThmudjMxfs8twrbwwRW0YRjXwEDJZjCnxdXog3/WLGitYTkxRG4ZRDaxFborjSnydE5BNfnqJr2MYhmEYhmEYhmEYhmEYhmEYhmEYhmEYhmEYhmEYhmEYhmEYhmEY1cv/A1kGmeC/9ga6AAAAAElFTkSuQmCC\"/>"
      ]
     },
     "metadata": {},
     "output_type": "display_data"
    }
   ],
   "source": [
    "cm = 28.3465\n",
    "golden = 1.618\n",
    "fig = Figure(size = (8.5*1.5cm*0.5, 8.5*1.5cm*0.25),background_color=:transparent, figure_padding=5,\n",
    "backgroundcolor = :transparent)\n",
    "ax1 = Axis(fig[1, 1],xlabel=rich(\"Distance to point source \",rich(\"r\",font=\"italic\"),\" (μm)\"),ylabel=rich(\"Droplet velocity \",rich(\"ṽ\",font=\"italic\")), backgroundcolor = :transparent)\n",
    "x = 0:0.001:2\n",
    "lines!(ax1, x, velocity3d.(x,ustrip(u\"μm\",R),ustrip(u\"μm\",l)),color=\"black\")\n",
    "save(\"./figures/3dvelocity.pdf\",fig,pt_per_unit=1.0,background_color=:transparent,dpi=600)\n",
    "fig"
   ]
  }
 ],
 "metadata": {
  "kernelspec": {
   "display_name": "Julia 1.11.5",
   "language": "julia",
   "name": "julia-1.11"
  },
  "language_info": {
   "file_extension": ".jl",
   "mimetype": "application/julia",
   "name": "julia",
   "version": "1.11.5"
  }
 },
 "nbformat": 4,
 "nbformat_minor": 2
}
